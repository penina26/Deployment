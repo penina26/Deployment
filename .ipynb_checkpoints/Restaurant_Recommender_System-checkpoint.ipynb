{
 "cells": [
  {
   "cell_type": "markdown",
   "metadata": {
    "id": "JVKhARsKtFZh"
   },
   "source": [
    "# **Restaurant Recommender System**"
   ]
  },
  {
   "cell_type": "markdown",
   "metadata": {
    "id": "LQ9gbt3ntFZl"
   },
   "source": [
    "##### **Group 1 (i.e. Foodies) members**:\n",
    "<ul type='square'> \n",
    "    <li> David Mwiti</li>\n",
    "    <li> Karen Amanya</li>\n",
    "    <li> Mercy Onduso </li>\n",
    "    <li> Nicholus Magak </li>\n",
    "    <li> Penina Wanyama </li>\n",
    "    <li> Stephen Thuo </li>\n",
    "</ul>"
   ]
  },
  {
   "cell_type": "markdown",
   "metadata": {
    "id": "HcBYXiXC3rD2"
   },
   "source": [
    "# Business Understanding"
   ]
  },
  {
   "cell_type": "markdown",
   "metadata": {
    "id": "662Od6jFuQGk"
   },
   "source": [
    "## **Overview**\n",
    "\n",
    "### **Problem Statement**\n",
    "The current lack of personalized recommendations based on explicit feedback on restaurant recommendation platforms is resulting in decreased visits and revenue. Traditional approaches based on cuisine or ratings are no longer sufficient as customers prefer personal recommendations from friends and influencers, as they provide more informative and reliable reviews. \n",
    "\n",
    "To address this challenge, a content recommender system that incorporates explicit feedback and relevant keywords can provide a more personalized experience and deliver relevant recommendations, ultimately improving website traffic and revenue for restaurant platforms. This presents a unique opportunity for platforms like EatOut to gain a competitive advantage by enhancing their recommendations to enable users to easily find restaurants and hotels based on their desired experience, rather than just cuisine or ratings.\n",
    "\n",
    "\n",
    "### **Objectives**\n",
    "\n",
    "> **General Objective:**\n",
    "\n",
    "The General objective for this project is to develop a personalized recommender system that will analyze customer preferences and recommend the most suitable restaurants on EatOut, with the goal of increasing customer satisfaction, engagement rates, and revenue.\n",
    "\n",
    "\n",
    "> **Specific Objectives:**\n",
    "\n",
    "1. Develop a user-friendly interface that allows customers to easily input their preferences for cuisine type, price range, and location.\n",
    "2. Implement a collaborative filtering algorithm that can analyze customer data and generate personalized restaurant recommendations based on their preferences.\n",
    "3. Integrate the recommender system with the restaurant platform and display personalized recommendations to customers as part of their overall platform experience.\n",
    "\n",
    "> **Research Questions:**\n",
    "\n",
    "1. What data sources should be used to train the recommendation engine, and how can this data be effectively processed and analyzed to identify patterns in customer preferences?\n",
    "2. What features should be included in the user interface to allow customers to input their preferences easily and efficiently?\n",
    "3. What algorithms should be implemented on customer data to generate personalized restaurant recommendations based on their preferences?\n",
    "4. What are the technical requirements for integrating the recommender system with the restaurant platform, and how can the system be seamlessly integrated into the overall platform experience for customers?\n",
    "\n",
    "\n",
    "### **Success Criteria**\n",
    "\n",
    "As the aim of the project is to add a personalized experience to the website, the project’s success will be measured based on its ability to provide fast and relevant recommendations according to key words in a person’s search.\n",
    "\n",
    "The success criteria we will follow depends on the predictive accuracy of the recommendations. This means we will rate how close the estimated ratings are to genuine use ratings, which is a measure used for evaluating non-binary ratings (e.g. 1-10 scale). Since selling books is crucial for a platform that is in business, this is the best metric we decided to use.\n",
    "\n",
    "The two metrics that we will use are Mean Squared Error (M.S.E) and Root Mean Squared Error (R.M.S.E) due to the fact the rating scale is the same throughout."
   ]
  },
  {
   "cell_type": "markdown",
   "metadata": {
    "id": "E7f8og6DtFZp"
   },
   "source": [
    "## **Importing the required libraries**"
   ]
  },
  {
   "cell_type": "code",
   "execution_count": 1,
   "metadata": {
    "id": "BNXqKCbAtFZr"
   },
   "outputs": [],
   "source": [
    "#install required libraries\n",
    "# ! pip install dataprep\n",
    "# ! pip install pycountry\n",
    "# ! pip install surprise\n",
    "# ! pip install sidetable"
   ]
  },
  {
   "cell_type": "code",
   "execution_count": 2,
   "metadata": {
    "colab": {
     "base_uri": "https://localhost:8080/"
    },
    "id": "hmGs1sHmtFZs",
    "outputId": "c5bed3c9-6c65-4f75-d70a-9919599434ca",
    "scrolled": false
   },
   "outputs": [
    {
     "ename": "ModuleNotFoundError",
     "evalue": "No module named 'pandas'",
     "output_type": "error",
     "traceback": [
      "\u001b[1;31m---------------------------------------------------------------------------\u001b[0m",
      "\u001b[1;31mModuleNotFoundError\u001b[0m                       Traceback (most recent call last)",
      "Cell \u001b[1;32mIn[2], line 1\u001b[0m\n\u001b[1;32m----> 1\u001b[0m \u001b[38;5;28;01mimport\u001b[39;00m \u001b[38;5;21;01mpandas\u001b[39;00m \u001b[38;5;28;01mas\u001b[39;00m \u001b[38;5;21;01mpd\u001b[39;00m\n\u001b[0;32m      2\u001b[0m \u001b[38;5;28;01mimport\u001b[39;00m \u001b[38;5;21;01mnumpy\u001b[39;00m \u001b[38;5;28;01mas\u001b[39;00m \u001b[38;5;21;01mnp\u001b[39;00m\n\u001b[0;32m      3\u001b[0m \u001b[38;5;28;01mimport\u001b[39;00m \u001b[38;5;21;01mstring\u001b[39;00m\n",
      "\u001b[1;31mModuleNotFoundError\u001b[0m: No module named 'pandas'"
     ]
    }
   ],
   "source": [
    "import pandas as pd\n",
    "import numpy as np\n",
    "import string\n",
    "\n",
    "import seaborn as sns\n",
    "import matplotlib.pyplot as plt\n",
    "%matplotlib inline\n",
    "%config inlineBackend.figure_format = 'retina'\n",
    "sns.set_context('notebook')\n",
    "\n",
    "from wordcloud import WordCloud, STOPWORDS\n",
    "from textblob import TextBlob\n",
    "\n",
    "import folium\n",
    "\n",
    "from ast import literal_eval\n",
    "from dataprep.clean import clean_country #pip install dataprep\n",
    "import pycountry #conda install -c conda-forge pycountry\n",
    "from surprise import Reader, Dataset, SVD, accuracy\n",
    "from surprise.model_selection import cross_validate\n",
    "from surprise.model_selection import train_test_split\n",
    "import sidetable\n",
    "from sklearn.feature_extraction.text import TfidfVectorizer\n",
    "from sklearn.metrics.pairwise import linear_kernel\n",
    "import operator\n",
    "\n",
    "\n",
    "import nltk\n",
    "from nltk.corpus import stopwords\n",
    "from nltk.tokenize import word_tokenize\n",
    "from nltk.stem.wordnet import WordNetLemmatizer\n",
    "\n",
    "# download nltk packages\n",
    "nltk.download('stopwords')\n",
    "nltk.download('punkt')\n",
    "nltk.download('averaged_perceptron_tagger')\n",
    "nltk.download('wordnet')\n",
    "\n",
    "import warnings\n",
    "warnings.filterwarnings(\"ignore\")"
   ]
  },
  {
   "cell_type": "markdown",
   "metadata": {
    "id": "4HYcoSRgtFZs"
   },
   "source": [
    "## **Loading the Data**"
   ]
  },
  {
   "cell_type": "markdown",
   "metadata": {
    "id": "lbdLJlymtFZs"
   },
   "source": [
    "### **Restaurants_df**"
   ]
  },
  {
   "cell_type": "code",
   "execution_count": null,
   "metadata": {
    "colab": {
     "base_uri": "https://localhost:8080/",
     "height": 652
    },
    "id": "evxtB0ngtFZt",
    "outputId": "e80d3728-b320-4766-c657-fd807ef1bce9",
    "scrolled": false
   },
   "outputs": [],
   "source": [
    "restaurant_df = pd.read_csv('https://raw.githubusercontent.com/ThuoM/Restaurant-Recommender-System/base_modeling/restaurant_data.csv', encoding='utf-8', on_bad_lines='skip', low_memory=False)\n",
    "restaurant_df.head()"
   ]
  },
  {
   "cell_type": "markdown",
   "metadata": {
    "id": "ouDS7o_stFZt"
   },
   "source": [
    "## **Users_df**"
   ]
  },
  {
   "cell_type": "code",
   "execution_count": null,
   "metadata": {
    "colab": {
     "base_uri": "https://localhost:8080/",
     "height": 337
    },
    "id": "BecuGfj9tFZt",
    "outputId": "1c9020e1-40ea-4d98-80c7-fd1e542467ac",
    "scrolled": true
   },
   "outputs": [],
   "source": [
    "data_url = 'https://raw.githubusercontent.com/ThuoM/Restaurant-Recommender-System/main/final_revs.csv'\n",
    "user_revs_df = pd.read_csv(data_url)\n",
    "columns=['User_Name','Account','Location','Date_of_review','Rating','Comment','URL']\n",
    "user_revs_df.columns = columns\n",
    "user_revs_df.head()"
   ]
  },
  {
   "cell_type": "markdown",
   "metadata": {
    "id": "Qb0dDS16tFZt"
   },
   "source": [
    "# **Data Understanding**\n",
    "\n",
    "The data being used on this project was object after scraping on Yelp. It is meant to be used as a mockup for how Eat Out's data could look like on the probability our recommender is accepted.\n",
    "\n",
    "The data contained two files: \n",
    "\n",
    "* **_restaurants.csv_**\n",
    "\n",
    "Contained the restaurants we desired to recommend. A few notable features in the dataset are name(of restaurant), avg_rating, pricing_range, & cuisine. Regional data we have is from New York hence there is a location field with the restaurants' individual locs.\n",
    "\n",
    "* **_final_revs.csv_**\n",
    "\n",
    "Contained user info from the individual restaurants. Users have identification  based on their account links. Other features include (Username, date of review, individual rating). We were also able to acquire comments from users which can be used to give restaurants more context. \n"
   ]
  },
  {
   "cell_type": "markdown",
   "metadata": {
    "id": "M15OO1lNtFZu"
   },
   "source": [
    "##### _**1. restaurants_df**_"
   ]
  },
  {
   "cell_type": "code",
   "execution_count": null,
   "metadata": {
    "colab": {
     "base_uri": "https://localhost:8080/"
    },
    "id": "2EYbW2hbtFZu",
    "outputId": "40d330be-682f-46dc-8339-523a8df3856f"
   },
   "outputs": [],
   "source": [
    "restaurant_df.info()\n",
    "\n",
    "# Observations:\n",
    "#   16 columns & 500 rows\n",
    "#   It has some missing phone & display phone numbers\n",
    "#   Missing quite a bit of data on the pricing section"
   ]
  },
  {
   "cell_type": "code",
   "execution_count": null,
   "metadata": {
    "id": "rhszQkVCtFZu"
   },
   "outputs": [],
   "source": [
    "# Converting the cuisine text to a more human readable format\n",
    "restaurant_df['Cuisine'] = restaurant_df['Cuisine'].map(lambda x: x.replace(',',''))\n",
    "restaurant_df['Cuisine'] = restaurant_df['Cuisine'].apply(lambda x: x.replace(\" \", \"\"))"
   ]
  },
  {
   "cell_type": "code",
   "execution_count": null,
   "metadata": {
    "colab": {
     "base_uri": "https://localhost:8080/"
    },
    "id": "ZJuh0hBJtFZu",
    "outputId": "4c499a10-9b6e-4f4e-aa7b-fc37a2b23d20",
    "scrolled": true
   },
   "outputs": [],
   "source": [
    "# viewing the types of cuisines \n",
    "set(restaurant_df['Cuisine'])\n",
    "\n",
    "restaurant_df['Cuisine'].head(10)"
   ]
  },
  {
   "cell_type": "code",
   "execution_count": null,
   "metadata": {
    "colab": {
     "base_uri": "https://localhost:8080/"
    },
    "id": "k50nRsratFZu",
    "outputId": "b8e57df3-4b5f-4d6c-c7f4-866ded3e0b83"
   },
   "outputs": [],
   "source": [
    "# viewing the number of unique restaurants\n",
    "len(restaurant_df['Restaurant ID'].unique())"
   ]
  },
  {
   "cell_type": "code",
   "execution_count": null,
   "metadata": {
    "colab": {
     "base_uri": "https://localhost:8080/"
    },
    "id": "mNZ_7DphtFZv",
    "outputId": "1e842101-c1bd-4996-baac-7733518888b1"
   },
   "outputs": [],
   "source": [
    "# Types of transactions occuring in the restaurants\n",
    "set(restaurant_df['Transactions'])"
   ]
  },
  {
   "cell_type": "code",
   "execution_count": null,
   "metadata": {
    "colab": {
     "base_uri": "https://localhost:8080/"
    },
    "id": "F_6M9RF-tFZv",
    "outputId": "f3e81433-f749-4a0d-9549-99f5b3f7770d"
   },
   "outputs": [],
   "source": [
    "# Preview the locations\n",
    "restaurant_df['Location'].head(10)"
   ]
  },
  {
   "cell_type": "code",
   "execution_count": null,
   "metadata": {
    "colab": {
     "base_uri": "https://localhost:8080/"
    },
    "id": "2N2uMyqItFZv",
    "outputId": "021f64f5-842d-4d6e-9910-b9f97a8ced20"
   },
   "outputs": [],
   "source": [
    "# viewing the rating scale of the restaurants\n",
    "set(restaurant_df['Rating'])"
   ]
  },
  {
   "cell_type": "code",
   "execution_count": null,
   "metadata": {
    "colab": {
     "base_uri": "https://localhost:8080/",
     "height": 727
    },
    "id": "E8ksBRHatFZw",
    "outputId": "72fbeb1c-8af6-4582-b2a5-642ca09c497d"
   },
   "outputs": [],
   "source": [
    "fig, ax = plt.subplots(figsize=(11,8))\n",
    "sns.histplot(restaurant_df['Rating'], bins = np.arange(8) - 0.5, ax=ax)\n",
    "ax.set_xticks(range(1,6))\n",
    "ax.set_xlabel('Ratings')\n",
    "ax.set_ylabel('Number of Restaurants')\n",
    "ax.set_title('Restaurant Ratings');\n",
    "\n",
    "rating_count = restaurant_df['Rating'].value_counts().sort_index()\n",
    "for i, val in enumerate(rating_count.values):\n",
    "    ax.text(i+1, val+5, (f'{round((val/sum(rating_count.values))*100, 1)}%'), ha='center', va='bottom',size=12)  \n",
    "    \n",
    "    # Observations:\n",
    "    # The book rating ranges from 0 to 10\n",
    "    # Most books have a rating of 0\n",
    "    # The ratings between 1-4 have very few books"
   ]
  },
  {
   "cell_type": "markdown",
   "metadata": {
    "id": "nFpF5z0vtFZw"
   },
   "source": [
    "##### _**2. users_df**_"
   ]
  },
  {
   "cell_type": "code",
   "execution_count": null,
   "metadata": {
    "colab": {
     "base_uri": "https://localhost:8080/"
    },
    "id": "vg0iphpWtFZw",
    "outputId": "dc310fc0-a498-4e80-b23b-ba0cb4bde7a3"
   },
   "outputs": [],
   "source": [
    "user_revs_df.info()"
   ]
  },
  {
   "cell_type": "code",
   "execution_count": null,
   "metadata": {
    "colab": {
     "base_uri": "https://localhost:8080/"
    },
    "id": "80EZ-rsAtFZx",
    "outputId": "9cf986ea-f40c-42d7-b3a4-a69c79a2d23f"
   },
   "outputs": [],
   "source": [
    "# Checking how many unique users rated\n",
    "len(user_revs_df['Account'].unique())"
   ]
  },
  {
   "cell_type": "code",
   "execution_count": null,
   "metadata": {
    "colab": {
     "base_uri": "https://localhost:8080/",
     "height": 300
    },
    "id": "JgcL7f60tFZx",
    "outputId": "08f87199-5f1e-4d22-b9a5-5270e99ae1ca"
   },
   "outputs": [],
   "source": [
    "user_revs_df.describe()"
   ]
  },
  {
   "cell_type": "code",
   "execution_count": null,
   "metadata": {
    "id": "3CjJoBkAtFZx",
    "scrolled": true
   },
   "outputs": [],
   "source": [
    "# # List of locations to users majority\n",
    "# list_of_locs = set(user_revs_df['Location'])\n",
    "# dic_loc = {}\n",
    "\n",
    "# for location in list_of_locs:\n",
    "#     num = len(user_revs_df[user_revs_df['Location'] == location])\n",
    "#     dic_loc[location] = num\n",
    "# dic_loc"
   ]
  },
  {
   "cell_type": "markdown",
   "metadata": {
    "id": "PdT4DeqftFZx"
   },
   "source": [
    "**Checking for the trend in restaurant ratings production over time**"
   ]
  },
  {
   "cell_type": "code",
   "execution_count": null,
   "metadata": {
    "colab": {
     "base_uri": "https://localhost:8080/"
    },
    "id": "dtouZ4W4tFZx",
    "outputId": "c223e8f0-b24b-47dd-84a0-b151000dc7ee"
   },
   "outputs": [],
   "source": [
    "dic_years = {}\n",
    "for years in user_revs_df['Date_of_review']:\n",
    "    if int(years[-4:]) in dic_years.keys():\n",
    "        dic_years[int(years[-4:])] += 1\n",
    "    else:\n",
    "        dic_years[int(years[-4:])] = 1\n",
    "list(dic_years.keys())"
   ]
  },
  {
   "cell_type": "code",
   "execution_count": null,
   "metadata": {
    "colab": {
     "base_uri": "https://localhost:8080/",
     "height": 573
    },
    "id": "rKgCjJxJtFZy",
    "outputId": "42bc785e-36e9-450b-e50c-98d480942876"
   },
   "outputs": [],
   "source": [
    "# years and comments trend made\n",
    "myKeys = list(dic_years.keys())\n",
    "myKeys.sort()\n",
    "\n",
    "X = myKeys\n",
    "y = []\n",
    "for i in myKeys:\n",
    "    y.append(dic_years[i]) \n",
    "\n",
    "year_plot = pd.DataFrame()\n",
    "year_plot['years'] = X\n",
    "year_plot['numbers'] = y\n",
    "\n",
    "plt.figure(figsize=(10, 6))\n",
    "ax = sns.lineplot(x='years', y='numbers', data=year_plot, color='teal')\n",
    "\n",
    "ax.set(xlabel='Years', ylabel='Number of users', \n",
    "       title='Users\\' rating growth in years')\n",
    "plt.show()\n",
    "# Observations:\n",
    "    # Over time, there has been an increasing trend in people embracing rating restaurants on Yelp as a means of sharing their experiences and opinions with others."
   ]
  },
  {
   "cell_type": "markdown",
   "metadata": {
    "id": "leivRF-S_0zc"
   },
   "source": [
    "Conclusion: The amount of data retrieved over the years since 2005-2023 has been increasing exponentially over the years except for 2020 when there was a lock down. 2023 has merely reached its 1st quarter when we scraped the data"
   ]
  },
  {
   "cell_type": "markdown",
   "metadata": {
    "id": "RF7-3woyIARS"
   },
   "source": [
    "###Merging the 2 Datasets"
   ]
  },
  {
   "cell_type": "code",
   "execution_count": null,
   "metadata": {
    "colab": {
     "base_uri": "https://localhost:8080/",
     "height": 584
    },
    "id": "m18iy7qrIEpt",
    "outputId": "88d36ac5-8d82-41e7-8b96-fdf90b09afc8"
   },
   "outputs": [],
   "source": [
    "#merge the two datasets\n",
    "user_restaurant_df = pd.merge(user_revs_df, restaurant_df, on='URL', how='left')\n",
    "user_restaurant_df.head(3)"
   ]
  },
  {
   "cell_type": "code",
   "execution_count": null,
   "metadata": {
    "colab": {
     "base_uri": "https://localhost:8080/"
    },
    "id": "sa7K4_TkNJ9V",
    "outputId": "6d08fcc0-e7e0-4f8f-c40e-87649ccc818b"
   },
   "outputs": [],
   "source": [
    "user_restaurant_df.columns"
   ]
  },
  {
   "cell_type": "markdown",
   "metadata": {
    "id": "1df7fMlPN0sa"
   },
   "source": [
    "The 'Account' Column is the unique identifier for the users,\n",
    "'Location_x' is the location of the restaurant where the users dined. The 'Date_of_review' column is when the user made the reviews for the restaurant. The 'Rating_x' is the ratings by user. The 'Comment' is the various comments by the user. The 'URL' is the unique identifier of the restaurant. 'Rating_y' is the average ratings the rstaurant received from the various users. 'Pricing' is used to identify the various levels of the restaurant(high-end, middle-class, affordable, cheap). The 'Transactions\" is used to specify which services are offfered by the restaurant. 'Location_y' is the restaurant's location. 'Reviews' column is the various reviews the restaurant received"
   ]
  },
  {
   "cell_type": "code",
   "execution_count": null,
   "metadata": {
    "id": "pR3vS7-dRnL2"
   },
   "outputs": [],
   "source": [
    "# renaming columns\n",
    "user_restaurant_df.rename(columns={'Account': 'user_ID', 'Rating_x': 'user_rating', 'Rating_y': 'avg_restaurant_rating',\n",
    "                                    'Cuisine': 'cuisine', 'Pricing': 'pricing', \n",
    "                                    'URL': 'url', 'Location_x': 'location', \n",
    "                                    'Restaurant ID': 'id', 'Date_of_review': 'review_date', \n",
    "                                    'Transactions': 'transactions', 'Number of Reviews':'number_of_reviews',\n",
    "                                   'Comment': 'comments', 'Reviews': 'reviews'}, inplace=True)"
   ]
  },
  {
   "cell_type": "markdown",
   "metadata": {
    "id": "NxXbLGzxPPqs"
   },
   "source": [
    "## Data Cleaning"
   ]
  },
  {
   "cell_type": "code",
   "execution_count": null,
   "metadata": {
    "colab": {
     "base_uri": "https://localhost:8080/",
     "height": 520
    },
    "id": "2fHleoHyOMPk",
    "outputId": "b64ea0a6-7fc2-478a-f48d-201e41f3fa48"
   },
   "outputs": [],
   "source": [
    "#Drop unnecessary columns\n",
    "unnecessary_columns = ['User_Name', 'Name', 'Phone', 'Display Phone', 'Distance', 'Location_y',\n",
    "                       'Review Count']\n",
    "user_restaurant_df = user_restaurant_df.drop(unnecessary_columns, axis =1)\n",
    "user_restaurant_df.head(3)"
   ]
  },
  {
   "cell_type": "markdown",
   "metadata": {
    "id": "hkeaAvIsPckU"
   },
   "source": [
    "### **Handling Missing Values**"
   ]
  },
  {
   "cell_type": "code",
   "execution_count": null,
   "metadata": {
    "colab": {
     "base_uri": "https://localhost:8080/",
     "height": 519
    },
    "id": "Q5JThKFIPbhD",
    "outputId": "7e158d89-a863-4710-e956-ff4d1ce72d79"
   },
   "outputs": [],
   "source": [
    "user_restaurant_df.stb.missing()"
   ]
  },
  {
   "cell_type": "markdown",
   "metadata": {
    "id": "6ilHQpTQPrpH"
   },
   "source": [
    "From the table above, we can see the missing values in the various columns: Pricing has missing values at 27.97%, while transactions, reviews ,avg_restaurant_rating and cuisine and ID have missing values at 20.56%, The pricing col is categorical, and the missing values can be replaced by the mode. The other columns with missing values can be either be dropped or replaced"
   ]
  },
  {
   "cell_type": "code",
   "execution_count": null,
   "metadata": {
    "id": "sDUgPjSIP0xb"
   },
   "outputs": [],
   "source": [
    "# Since pricing categorical data, we can use mode\n",
    "user_restaurant_df['pricing'] = user_restaurant_df['pricing'].fillna(user_restaurant_df['pricing'].mode()[0])\n",
    "# Empty transactions filled with None\n",
    "user_restaurant_df['transactions'] = user_restaurant_df['transactions'].fillna(user_restaurant_df['transactions'].mode()[0])\n",
    "# Missing Cuisines filled with a random one\n",
    "user_restaurant_df['cuisine'] = user_restaurant_df['cuisine'].fillna('random')\n",
    "# Missing average rating filled with the mode\n",
    "user_restaurant_df['avg_restaurant_rating'] = user_restaurant_df['avg_restaurant_rating'].fillna(user_restaurant_df['avg_restaurant_rating'].mode()[0])\n",
    "# Missing review filled with no reviews\n",
    "user_restaurant_df['reviews'] = user_restaurant_df['reviews'].fillna('no reviews')\n",
    "# Missing id filled with no identifier\n",
    "user_restaurant_df['id'] = user_restaurant_df['id'].fillna('no identifier')"
   ]
  },
  {
   "cell_type": "code",
   "execution_count": null,
   "metadata": {
    "colab": {
     "base_uri": "https://localhost:8080/",
     "height": 519
    },
    "id": "6BUKTWgCQf8C",
    "outputId": "17b57937-1703-43a2-bcb8-d6dca56a0866"
   },
   "outputs": [],
   "source": [
    "user_restaurant_df.stb.missing()"
   ]
  },
  {
   "cell_type": "markdown",
   "metadata": {
    "id": "22tFSBatVKUt"
   },
   "source": [
    "Encoding the pricing column"
   ]
  },
  {
   "cell_type": "code",
   "execution_count": null,
   "metadata": {
    "colab": {
     "base_uri": "https://localhost:8080/"
    },
    "id": "SkT7v4_HVNqw",
    "outputId": "03ae737c-8be8-42cd-a1de-898bb03294af"
   },
   "outputs": [],
   "source": [
    "user_restaurant_df['pricing'].nunique()"
   ]
  },
  {
   "cell_type": "code",
   "execution_count": null,
   "metadata": {
    "id": "ch6VD51GVWic"
   },
   "outputs": [],
   "source": [
    "# from sklearn.preprocessing import OrdinalEncoder\n",
    "\n",
    "# # create an instance of the encoder\n",
    "# encoder = OrdinalEncoder(categories=[['$', '$$', '$$$', '$$$$']])\n",
    "\n",
    "# # fit and transform the pricing column\n",
    "# encoded_pricing = encoder.fit_transform(user_restaurant_df['pricing'].values.reshape(-1, 1))\n",
    "\n",
    "# # replace the original pricing column with the encoded values\n",
    "# user_restaurant_df['pricing'] = encoded_pricing.astype(int)"
   ]
  },
  {
   "cell_type": "code",
   "execution_count": null,
   "metadata": {
    "colab": {
     "base_uri": "https://localhost:8080/"
    },
    "id": "QDeuhtOhVZad",
    "outputId": "d273d44c-6813-410e-e527-360999c31301"
   },
   "outputs": [],
   "source": [
    "user_restaurant_df['pricing'].head()"
   ]
  },
  {
   "cell_type": "code",
   "execution_count": null,
   "metadata": {
    "colab": {
     "base_uri": "https://localhost:8080/"
    },
    "id": "DUC-T4DtVoQY",
    "outputId": "5cb8a80b-4233-4529-cc88-b773ee5e4298"
   },
   "outputs": [],
   "source": [
    "user_restaurant_df.dtypes"
   ]
  },
  {
   "cell_type": "markdown",
   "metadata": {
    "id": "R3bDvKpHtFZy"
   },
   "source": [
    "# **Exploratory Data Analysis**"
   ]
  },
  {
   "cell_type": "markdown",
   "metadata": {
    "id": "3oXG2Ek2JJQG"
   },
   "source": [
    "## **Data transformation**"
   ]
  },
  {
   "cell_type": "markdown",
   "metadata": {
    "id": "vOoRqaU4vlaG"
   },
   "source": [
    "### **Preprocess text data**"
   ]
  },
  {
   "cell_type": "code",
   "execution_count": null,
   "metadata": {
    "colab": {
     "base_uri": "https://localhost:8080/",
     "height": 617
    },
    "id": "uA9keaf_I977",
    "outputId": "c6c31079-630b-4be4-9453-e75e5d683511"
   },
   "outputs": [],
   "source": [
    "# Converting the columns to lower case\n",
    "user_restaurant_df['url'] = user_restaurant_df['url'].str.lower()\n",
    "user_restaurant_df['location'] = user_restaurant_df['location'].str.lower()\n",
    "user_restaurant_df['cuisine'] = user_restaurant_df['cuisine'].str.lower()\n",
    "user_restaurant_df['comments'] = user_restaurant_df['comments'].str.lower()\n",
    "\n",
    "user_restaurant_df.sample(5)"
   ]
  },
  {
   "cell_type": "code",
   "execution_count": null,
   "metadata": {
    "id": "uj6LxNRvv3-p"
   },
   "outputs": [],
   "source": [
    "# converts the strings to python list\n",
    "user_restaurant_df['transactions'] = user_restaurant_df['transactions'].apply(lambda x: literal_eval(x))\n",
    "\n",
    "# joins the created python lists together\n",
    "user_restaurant_df['transactions'] = user_restaurant_df['transactions'].apply(lambda x: ', '.join(x))"
   ]
  },
  {
   "cell_type": "code",
   "execution_count": null,
   "metadata": {
    "colab": {
     "base_uri": "https://localhost:8080/"
    },
    "id": "IZtCC24rxzyK",
    "outputId": "afd2535f-b262-4d5c-828b-332734213f7d"
   },
   "outputs": [],
   "source": [
    "user_restaurant_df['transactions'].sample(10)"
   ]
  },
  {
   "cell_type": "markdown",
   "metadata": {
    "id": "3mUo9qYunMLC"
   },
   "source": [
    "<p> We chose to use NLTK word Lemmatizer and also remove English stop words and non alphabet tokens from reviews and style attributes. </p>"
   ]
  },
  {
   "cell_type": "code",
   "execution_count": null,
   "metadata": {
    "id": "niCtcx9LnE2F"
   },
   "outputs": [],
   "source": [
    "lemmatizer = WordNetLemmatizer()\n",
    "stop_words = set(stopwords.words('english'))\n",
    "def process_sentences(text):\n",
    "    temp_sent =[]\n",
    "\n",
    "    # Tokenize words\n",
    "    words = nltk.word_tokenize(text)\n",
    "\n",
    "    # Lemmatize each of the words based on their position in the sentence\n",
    "    tags = nltk.pos_tag(words)\n",
    "    for i, word in enumerate(words):\n",
    "        # only verbs\n",
    "        if tags[i][1] in ('VB', 'VBD', 'VBG', 'VBN', 'VBP', 'VBZ'):\n",
    "            lemmatized = lemmatizer.lemmatize(word, 'v')\n",
    "        else:\n",
    "            lemmatized = lemmatizer.lemmatize(word)\n",
    "        \n",
    "        # Remove stop words and non alphabet tokens\n",
    "        if lemmatized not in stop_words and lemmatized.isalpha(): \n",
    "            temp_sent.append(lemmatized)\n",
    "\n",
    "    # Some other clean-up\n",
    "    full_sentence = ' '.join(temp_sent)\n",
    "    full_sentence = full_sentence.replace(\"n't\", \" not\")\n",
    "    full_sentence = full_sentence.replace(\"'m\", \" am\")\n",
    "    full_sentence = full_sentence.replace(\"'s\", \" is\")\n",
    "    full_sentence = full_sentence.replace(\"'re\", \" are\")\n",
    "    full_sentence = full_sentence.replace(\"'ll\", \" will\")\n",
    "    full_sentence = full_sentence.replace(\"'ve\", \" have\")\n",
    "    full_sentence = full_sentence.replace(\"'d\", \" would\")\n",
    "    return full_sentence"
   ]
  },
  {
   "cell_type": "code",
   "execution_count": null,
   "metadata": {
    "id": "xmDL1sd0nZUo"
   },
   "outputs": [],
   "source": [
    "# creation of filtered comments\n",
    "user_restaurant_df['processed_comments'] = user_restaurant_df['comments'].apply(process_sentences)"
   ]
  },
  {
   "cell_type": "code",
   "execution_count": null,
   "metadata": {
    "id": "XUmRz2eKn2sL"
   },
   "outputs": [],
   "source": [
    "# creation of filtered cuisines\n",
    "user_restaurant_df['processed_cuisine'] = user_restaurant_df['cuisine'].apply(process_sentences)"
   ]
  },
  {
   "cell_type": "code",
   "execution_count": null,
   "metadata": {
    "id": "pF-NY8hOn3i9"
   },
   "outputs": [],
   "source": [
    "# creation of filtered transactions\n",
    "user_restaurant_df['processed_transactions'] = user_restaurant_df['transactions'].apply(process_sentences)"
   ]
  },
  {
   "cell_type": "code",
   "execution_count": null,
   "metadata": {
    "colab": {
     "base_uri": "https://localhost:8080/",
     "height": 302
    },
    "id": "uAPpRgNzoVtM",
    "outputId": "f68d8d3d-d48c-4166-cf4c-5430028edddb"
   },
   "outputs": [],
   "source": [
    "# Preview of the processed columns\n",
    "user_restaurant_df[['processed_comments', 'comments', 'processed_cuisine', 'cuisine', 'processed_transactions', 'transactions']].sample(5)"
   ]
  },
  {
   "cell_type": "markdown",
   "metadata": {
    "id": "AgkRxuvQoxP-"
   },
   "source": [
    "<p>Eventually, let's create a bag_of_words with a combination of our new preprocessed attributes:</p>\n",
    "<br>\n",
    "\n",
    "&emsp;&emsp;&emsp;&emsp;&emsp;&emsp;&emsp;&emsp;&emsp;&emsp;&emsp;&emsp; <strong>bag of words=style processed+reviews processed</strong>"
   ]
  },
  {
   "cell_type": "code",
   "execution_count": null,
   "metadata": {
    "colab": {
     "base_uri": "https://localhost:8080/",
     "height": 225
    },
    "id": "wIYQvwRioyzD",
    "outputId": "0e1928ec-101e-43ee-a394-d06dd43ff3f9"
   },
   "outputs": [],
   "source": [
    "user_restaurant_df['bogs'] = user_restaurant_df['processed_cuisine'] + ' ' + user_restaurant_df['processed_comments'] + ' ' + user_restaurant_df['processed_transactions']\n",
    "display('A sample of bag of words', user_restaurant_df[['processed_comments', 'processed_cuisine', 'processed_transactions','bogs']].sample(5))"
   ]
  },
  {
   "cell_type": "markdown",
   "metadata": {
    "id": "6EtTjnkLZRg-"
   },
   "source": [
    "### **Mapping the location of the Restaurants**"
   ]
  },
  {
   "cell_type": "code",
   "execution_count": null,
   "metadata": {
    "colab": {
     "base_uri": "https://localhost:8080/"
    },
    "id": "lEUJKcB4ZySD",
    "outputId": "4d82d0a3-c839-40b0-e615-de678f63e458"
   },
   "outputs": [],
   "source": [
    "user_restaurant_df.shape"
   ]
  },
  {
   "cell_type": "code",
   "execution_count": null,
   "metadata": {
    "colab": {
     "base_uri": "https://localhost:8080/"
    },
    "id": "Wumh7vn4XbF7",
    "outputId": "563e5cc4-b014-4120-a339-99f8dc883239"
   },
   "outputs": [],
   "source": [
    "reviewed_data = user_restaurant_df[user_restaurant_df['reviews'] != 'no reviews']\n",
    "\n",
    "reviewed_data.shape"
   ]
  },
  {
   "cell_type": "code",
   "execution_count": null,
   "metadata": {
    "colab": {
     "base_uri": "https://localhost:8080/",
     "height": 777
    },
    "id": "DHT0vDAkaDup",
    "outputId": "89616718-a3f2-4a57-f4d9-3f135336f1df"
   },
   "outputs": [],
   "source": [
    "# Create a map centered on a specific location\n",
    "map_restaurants = folium.Map(location=[40.7128, -74.0060], zoom_start=11, zoom_control=False)\n",
    "\n",
    "# Add markers for each restaurant using the latitude and longitude data\n",
    "for index, row in restaurant_df.iterrows():\n",
    "    name = row['Name']\n",
    "    latitude = row['Latitude']\n",
    "    longitude = row['Longitude']\n",
    "    marker = folium.Marker([latitude, longitude], popup=name)\n",
    "    marker.add_to(map_restaurants)\n",
    "\n",
    "# Display the map\n",
    "map_restaurants\n"
   ]
  },
  {
   "cell_type": "markdown",
   "metadata": {
    "id": "tImWe3utgezW"
   },
   "source": [
    "Most restaurants in our data are in NewYork."
   ]
  },
  {
   "cell_type": "markdown",
   "metadata": {
    "id": "OshQhdo5gvnZ"
   },
   "source": [
    "### **Common Words in Reviews**"
   ]
  },
  {
   "cell_type": "code",
   "execution_count": null,
   "metadata": {
    "colab": {
     "base_uri": "https://localhost:8080/",
     "height": 501
    },
    "id": "SKcMUEJZgwxp",
    "outputId": "d7ab66fd-e447-499c-e568-48d98a21592f"
   },
   "outputs": [],
   "source": [
    "# Creating a word cloud of the tweets\n",
    "\n",
    "# concatenate all the tweets into a single string\n",
    "all_reviews = ' '.join(user_restaurant_df['processed_comments'].values)\n",
    "\n",
    "# create a WordCloud object\n",
    "wc = WordCloud(width=800, height=400, background_color='white', max_words=200).generate(all_reviews)\n",
    "\n",
    "# display the word cloud\n",
    "plt.figure(figsize=(12,8))\n",
    "plt.imshow(wc, interpolation='bilinear')\n",
    "plt.axis('off')\n",
    "plt.show()"
   ]
  },
  {
   "cell_type": "markdown",
   "metadata": {
    "id": "RPnxl0bUqXd4"
   },
   "source": [
    "The common words have positive connotations like Good, amazing, delicious, great."
   ]
  },
  {
   "cell_type": "markdown",
   "metadata": {
    "id": "ugfL6JvgqkSK"
   },
   "source": [
    "### **Sentiment Analysis of Reveiws**"
   ]
  },
  {
   "cell_type": "code",
   "execution_count": null,
   "metadata": {
    "colab": {
     "base_uri": "https://localhost:8080/",
     "height": 358
    },
    "id": "wtuVDjR2qlgm",
    "outputId": "346d185b-b8cc-4754-bd2e-212a8445209d"
   },
   "outputs": [],
   "source": [
    "#calculating subjectivity and polarity scores using TextBlob\n",
    "\n",
    "user_restaurant_df['Subjectivity'] = user_restaurant_df['processed_comments'].apply(lambda x: TextBlob(x).sentiment.subjectivity)\n",
    "user_restaurant_df['Polarity'] = user_restaurant_df['processed_comments'].apply(lambda x: TextBlob(x).sentiment.polarity)\n",
    "user_restaurant_df['Review_sentiment'] = user_restaurant_df['Polarity'].apply(lambda x: 'positive' if x > 0 else (\n",
    "                                'negative' if x < 0 else 'neutral'))\n",
    "\n",
    "user_restaurant_df.head(3)"
   ]
  },
  {
   "cell_type": "code",
   "execution_count": null,
   "metadata": {
    "colab": {
     "base_uri": "https://localhost:8080/",
     "height": 621
    },
    "id": "du_S7wjLstCT",
    "outputId": "be92e851-5c33-43d2-9e75-324364ee60fd"
   },
   "outputs": [],
   "source": [
    "# Show the value counts\n",
    "print(user_restaurant_df['Review_sentiment'].value_counts())\n",
    "\n",
    "# bar plot showing the sentiment categories\n",
    "plt.subplots(figsize= (11, 5))\n",
    "plt.title('Review Sentiment Analysis')\n",
    "plt.xlabel('Sentiment')\n",
    "plt.ylabel('Counts')\n",
    "plt.xticks(rotation=45)\n",
    "user_restaurant_df['Review_sentiment'].value_counts().plot(kind='bar')\n",
    "plt.show()"
   ]
  },
  {
   "cell_type": "markdown",
   "metadata": {
    "id": "7TDIjPH6q1W4"
   },
   "source": [
    "### **Most popular cuisines**"
   ]
  },
  {
   "cell_type": "code",
   "execution_count": null,
   "metadata": {
    "colab": {
     "base_uri": "https://localhost:8080/",
     "height": 501
    },
    "id": "CH6aLGcIq2YG",
    "outputId": "58c8894f-4a91-465c-92de-81587a3a3552"
   },
   "outputs": [],
   "source": [
    "cuisine_processed = restaurant_df['Cuisine'].apply(process_sentences)\n",
    "\n",
    "# Convert the series into string text\n",
    "text = ' '.join(cuisine_processed.values)\n",
    "\n",
    "# create a WordCloud object\n",
    "wc = WordCloud(width=800, height=400, background_color='white', max_words=200).generate(text)\n",
    "# display the word cloud\n",
    "plt.figure(figsize=(12,8))\n",
    "plt.imshow(wc, interpolation='bilinear')\n",
    "plt.axis('off')\n",
    "plt.show()"
   ]
  },
  {
   "cell_type": "markdown",
   "metadata": {
    "id": "ptzCKdEdrd5B"
   },
   "source": [
    "Italian, Japanese,mexican, american new, Korean are the most popular cuisine styles"
   ]
  },
  {
   "cell_type": "markdown",
   "metadata": {
    "id": "w1lmIzeCriTq"
   },
   "source": [
    "### **Top 10 Most reviewed restaurants**"
   ]
  },
  {
   "cell_type": "code",
   "execution_count": null,
   "metadata": {
    "colab": {
     "base_uri": "https://localhost:8080/",
     "height": 673
    },
    "id": "t-GzRl4XrjhM",
    "outputId": "a0f83f83-fadb-456f-dfd6-93b4be2cc4db"
   },
   "outputs": [],
   "source": [
    "restaurants_review_df = restaurant_df[['Name','Number of Reviews']]\n",
    "#get the top10 restaurants\n",
    "top10 = restaurants_review_df.nlargest(10, 'Number of Reviews')\n",
    "# create a barplot of the top 10 restaurants\n",
    "plt.figure(figsize=(11,6))\n",
    "sns.barplot(data=top10, x='Name', y='Number of Reviews')\n",
    "plt.title(\"Top 10 Restaurants by Review Counts\")\n",
    "plt.xlabel(\"Restaurant Name\")\n",
    "plt.ylabel(\"Review Counts\")\n",
    "plt.xticks(rotation=45)\n",
    "plt.show()"
   ]
  },
  {
   "cell_type": "markdown",
   "metadata": {
    "id": "C-mv52_YsGz0"
   },
   "source": [
    "The highest reviews range from 14000 to about 2500"
   ]
  },
  {
   "cell_type": "markdown",
   "metadata": {
    "id": "Y9F8izyS81-Z"
   },
   "source": [
    "### **Restaurant's Ratings over Time**"
   ]
  },
  {
   "cell_type": "code",
   "execution_count": null,
   "metadata": {
    "colab": {
     "base_uri": "https://localhost:8080/",
     "height": 606
    },
    "id": "KdFg2RMBtFZy",
    "outputId": "605ad29c-b593-4bad-fd5f-d65d008dab36"
   },
   "outputs": [],
   "source": [
    "# Extract the years from the date column and create a new column with them\n",
    "user_revs_df['Year'] = pd.DatetimeIndex(user_revs_df['Date_of_review']).year\n",
    "\n",
    "# Plot a histogram of the years using seaborn.histplot\n",
    "plt.figure(figsize=(11,6))\n",
    "sns.histplot(data=user_revs_df, x='Year', bins=10)\n",
    "plt.title(\"Ratings Over Time\")\n",
    "plt.xlabel(\"Year\")\n",
    "plt.ylabel(\"Review Counts\")\n",
    "plt.xticks(rotation=45)\n",
    "plt.show();"
   ]
  },
  {
   "cell_type": "markdown",
   "metadata": {
    "id": "5_oJpza_AojQ"
   },
   "source": [
    "### **Ratings Distribution**"
   ]
  },
  {
   "cell_type": "code",
   "execution_count": null,
   "metadata": {
    "colab": {
     "base_uri": "https://localhost:8080/",
     "height": 573
    },
    "id": "Iu0kRW3StFZy",
    "outputId": "1a0dc94e-4651-49c3-a19b-f435a5772b4e"
   },
   "outputs": [],
   "source": [
    "#Checking the distriburion of resturant ratings\n",
    "plt.figure(figsize=(11,6))\n",
    "sns.histplot(data=user_revs_df, x='Rating', bins=10)\n",
    "plt.title('Distribution of restaurant ratings')\n",
    "plt.xlabel('Rating')\n",
    "plt.ylabel('Frequency')\n",
    "plt.show()"
   ]
  },
  {
   "cell_type": "markdown",
   "metadata": {
    "id": "snjyAvtEAxV_"
   },
   "source": [
    "**Correlation Matrix**"
   ]
  },
  {
   "cell_type": "code",
   "execution_count": null,
   "metadata": {
    "colab": {
     "base_uri": "https://localhost:8080/",
     "height": 703
    },
    "id": "NX3OQB9atFZy",
    "outputId": "70db0576-e064-452d-99c9-96c04252b757"
   },
   "outputs": [],
   "source": [
    "plt.figure(figsize=(11,6))\n",
    "corr_matrix = user_restaurant_df.corr()\n",
    "sns.heatmap(corr_matrix, cmap='coolwarm', annot=True)\n",
    "plt.title('Correlation matrix')\n",
    "plt.show()"
   ]
  },
  {
   "cell_type": "markdown",
   "metadata": {
    "id": "XxoXeM7TF8tG"
   },
   "source": [
    "From the correlation we see that most of our features have low collinearity since their correlation coefficient (usually the Pearson correlation coefficient) is close to 0 or between -0.3 and 0.3. This means that there is little or no linear relationship between the features and they are essentially independent. For this reason, we will retain all the features since they all have a unique information to show during moddeling"
   ]
  },
  {
   "cell_type": "code",
   "execution_count": null,
   "metadata": {
    "colab": {
     "base_uri": "https://localhost:8080/",
     "height": 573
    },
    "id": "wVe6yfiqtFZy",
    "outputId": "75eb5616-ddac-4357-febd-d0647cf33874"
   },
   "outputs": [],
   "source": [
    "# create a scatter plot with number of reviews on the x-axis and user rating on the y-axis\n",
    "plt.figure(figsize=(11,6))\n",
    "plt.scatter(user_restaurant_df['number_of_reviews'], user_restaurant_df['user_rating'])\n",
    "\n",
    "# set the axis labels and title\n",
    "plt.xlabel('Number of Reviews')\n",
    "plt.ylabel('User Rating')\n",
    "plt.title('Relationship between Number of Reviews and User Rating')\n",
    "\n",
    "# show the plot\n",
    "plt.show()"
   ]
  },
  {
   "cell_type": "code",
   "execution_count": null,
   "metadata": {
    "colab": {
     "base_uri": "https://localhost:8080/",
     "height": 573
    },
    "id": "kOTyCQ3atFZy",
    "outputId": "d741160b-c03b-4574-ef89-cdd3a5c45b89"
   },
   "outputs": [],
   "source": [
    "# group the data by restaurant ID and count the number of comments for each restaurant\n",
    "plt.figure(figsize=(11,6))\n",
    "comments_by_restaurant = user_restaurant_df.groupby('url')['comments'].count()\n",
    "\n",
    "# create a histogram with the number of comments on the x-axis and frequency on the y-axis\n",
    "plt.hist(comments_by_restaurant, bins=20)\n",
    "\n",
    "# set the axis labels and title\n",
    "plt.xlabel('Number of Comments')\n",
    "plt.ylabel('Frequency')\n",
    "plt.title('Distribution of Comments by Restaurant')\n",
    "\n",
    "# show the plot\n",
    "plt.show()"
   ]
  },
  {
   "cell_type": "code",
   "execution_count": null,
   "metadata": {
    "id": "_sDmQhGOtFZz"
   },
   "outputs": [],
   "source": [
    "# create a box plot of user rating by pricing\n",
    "# plt.figure(figsize=(11,6))\n",
    "# user_restaurant_df.boxplot(column='user_rating', by='pricing')\n",
    "# plt.xlabel('Pricing')\n",
    "# plt.ylabel('User Rating')\n",
    "# plt.title('Relationship between Pricing and User Rating')\n",
    "# plt.show()"
   ]
  },
  {
   "cell_type": "code",
   "execution_count": null,
   "metadata": {
    "id": "mfC5UBbQtFZz"
   },
   "outputs": [],
   "source": [
    "# plt.scatter(user_restaurant_df['pricing'], user_restaurant_df['number_of_reviews'])\n",
    "# plt.xlabel('Pricing')\n",
    "# plt.ylabel('Number of Reviews')\n",
    "# plt.title('Relationship between Pricing and Number of Reviews')\n",
    "# plt.show()"
   ]
  },
  {
   "cell_type": "markdown",
   "metadata": {
    "id": "A9Bur4dEtFZ0"
   },
   "source": [
    "# **Data Preparation**"
   ]
  },
  {
   "cell_type": "markdown",
   "metadata": {
    "id": "dkkNoQeitFZ0"
   },
   "source": [
    "### **Data Reduction**"
   ]
  },
  {
   "cell_type": "markdown",
   "metadata": {
    "id": "5sHNic0I32Sv"
   },
   "source": [
    "<ul>\n",
    "    <li> Remove attributes that we don't need for content </li>\n",
    "    <li> Rename attributes for better convention </li>\n",
    "</ul>\n",
    "    "
   ]
  },
  {
   "cell_type": "code",
   "execution_count": null,
   "metadata": {
    "colab": {
     "base_uri": "https://localhost:8080/",
     "height": 450
    },
    "id": "X61BBR0ztFZ0",
    "outputId": "4bbe1c4f-2376-4d26-9087-8b74736993b6"
   },
   "outputs": [],
   "source": [
    "# viewing the restaurant data set before cleaning occurs\n",
    "restaurant_df.head(3)"
   ]
  },
  {
   "cell_type": "code",
   "execution_count": null,
   "metadata": {
    "id": "4TdRRGFbtFZ0"
   },
   "outputs": [],
   "source": [
    "# giving the restaurants a numerical id\n",
    "restaurant_df['Rest_num_id'] = pd.factorize(restaurant_df['URL'])[0]"
   ]
  },
  {
   "cell_type": "code",
   "execution_count": null,
   "metadata": {
    "colab": {
     "base_uri": "https://localhost:8080/"
    },
    "id": "_trnbFlPtFZ1",
    "outputId": "0785d412-1827-4d1f-dcac-dc63fda2309d"
   },
   "outputs": [],
   "source": [
    "# Pick out the number of restaurants already scraped in the users_revs side\n",
    "\n",
    "filtered_restaurant_df = restaurant_df[restaurant_df['URL'].isin(user_revs_df['URL'].unique())]\n",
    "len(filtered_restaurant_df)"
   ]
  },
  {
   "cell_type": "code",
   "execution_count": null,
   "metadata": {
    "id": "IFPnD9xWtFZ2"
   },
   "outputs": [],
   "source": [
    "# user_revs_df['Account_2'] = pd.factorize(user_revs_df['Account'])[0]\n",
    "# user_revs_df.head()"
   ]
  },
  {
   "cell_type": "code",
   "execution_count": null,
   "metadata": {
    "id": "mom8kslRtFZ2"
   },
   "outputs": [],
   "source": [
    "# \n",
    "# url_ids = restaurant_df[['Restaurant ID','URL']][restaurant_df['URL'].isin(user_revs_df['URL'].unique())]\n",
    "# url_ids\n",
    "# user_revs_df = pd.merge(user_revs_df, url_ids, on=\"URL\", how='left')\n",
    "# user_revs_df.head()"
   ]
  },
  {
   "cell_type": "code",
   "execution_count": null,
   "metadata": {
    "id": "6BCNdW8qtFZ2"
   },
   "outputs": [],
   "source": [
    "# filtered_users_df = user_revs_df.copy()\n",
    "\n",
    "# # removing unnecessary columns\n",
    "# filtered_users_df.drop(columns=['User_Name', 'Location', 'Date_of_review', 'Comment', 'Account', 'URL'], inplace=True)\n",
    "\n",
    "# # renaming the remaining columns appropriately\n",
    "# filtered_users_df.rename(columns={'Account_2': 'user-id', 'Restaurant ID': 'restaurant-id',\n",
    "#                                  'Rating': 'rating'}, inplace=True)\n",
    "\n",
    "# display('After reduction on user df', filtered_users_df)\n"
   ]
  },
  {
   "cell_type": "markdown",
   "metadata": {
    "id": "UykEoklStFZ3"
   },
   "source": [
    "### **Data transformation**"
   ]
  },
  {
   "cell_type": "code",
   "execution_count": null,
   "metadata": {
    "colab": {
     "base_uri": "https://localhost:8080/"
    },
    "id": "eAHNOM7XtFZ6",
    "outputId": "04001247-5355-487b-9daf-fbfc56f0e73a"
   },
   "outputs": [],
   "source": [
    "user_restaurant_df.info()"
   ]
  },
  {
   "cell_type": "markdown",
   "metadata": {
    "id": "lryKrIKutFZ6"
   },
   "source": [
    "<p>Time to deal with the price column and convert the signs to meaningful values.\n",
    "<br>Listing all the possible values of price in the dataset first</p>\n",
    "\n",
    "<br>\n",
    "\n",
    "* All the values on the user df are at the correct format as for now \n"
   ]
  },
  {
   "cell_type": "code",
   "execution_count": null,
   "metadata": {
    "colab": {
     "base_uri": "https://localhost:8080/"
    },
    "id": "9MpBs6b2tFZ6",
    "outputId": "73df6ed7-a9fa-4c3d-ed89-17341bc9c81e"
   },
   "outputs": [],
   "source": [
    "user_restaurant_df['pricing'].unique()"
   ]
  },
  {
   "cell_type": "markdown",
   "metadata": {
    "id": "4l743F47tFZ7"
   },
   "source": [
    "<p>There are 4 ranges so far:</p>\n",
    "\n",
    "<ul>\n",
    "<li> Mid-range (3 signs) </li>\n",
    "<li> Cheap Eats (1 sign) </li>\n",
    "<li> Affordable (2 signs) </li>\n",
    "<li> Pricey Dining (4 signs) </li>\n",
    "</ul>"
   ]
  },
  {
   "cell_type": "code",
   "execution_count": null,
   "metadata": {
    "id": "Oyv-OR2utFZ7"
   },
   "outputs": [],
   "source": [
    "# replacing the signs\n",
    "user_restaurant_df['pricing'].replace(['$$', '$$$$', '$', '$$$'], ['low', 'pricey-dining', 'popular-eats', 'mid-range'], inplace=True)"
   ]
  },
  {
   "cell_type": "code",
   "execution_count": null,
   "metadata": {
    "id": "L8j0EP64tFZ7"
   },
   "outputs": [],
   "source": [
    "constituents_list = list(set(user_restaurant_df['location'].str.split(',').str[-2].str.strip(string.punctuation)))"
   ]
  },
  {
   "cell_type": "code",
   "execution_count": null,
   "metadata": {
    "colab": {
     "base_uri": "https://localhost:8080/"
    },
    "id": "CckPrTyltFZ8",
    "outputId": "57d5b704-d7e4-4436-f075-d8246f4ea4f3"
   },
   "outputs": [],
   "source": [
    "# viewing the locations restaurants are commonly located\n",
    "constituents_list"
   ]
  },
  {
   "cell_type": "code",
   "execution_count": null,
   "metadata": {
    "colab": {
     "base_uri": "https://localhost:8080/"
    },
    "id": "Vk0JqUSrN_A7",
    "outputId": "c5154b67-6b2f-42bf-ab91-cbf945276e14"
   },
   "outputs": [],
   "source": [
    "user_restaurant_df['location']"
   ]
  },
  {
   "cell_type": "code",
   "execution_count": null,
   "metadata": {
    "id": "62ImpD2ytFZ8"
   },
   "outputs": [],
   "source": [
    "# Need to work on locations\n",
    "# filtered_restaurant_df['location'] = filtered_restaurant_df['location'].str.split(',').str[-2].str.strip(string.punctuation)\n",
    "# display('All changes done before preprocessing on text data', filtered_restaurant_df.head(3))"
   ]
  },
  {
   "cell_type": "code",
   "execution_count": null,
   "metadata": {
    "colab": {
     "base_uri": "https://localhost:8080/"
    },
    "id": "1ML5T6NntFZ9",
    "outputId": "3c9edb5e-0359-46de-858e-1362c794126e"
   },
   "outputs": [],
   "source": [
    "nltk.download('averaged_perceptron_tagger')"
   ]
  },
  {
   "cell_type": "code",
   "execution_count": null,
   "metadata": {
    "colab": {
     "base_uri": "https://localhost:8080/",
     "height": 319
    },
    "id": "RsU8isTXtFZ-",
    "outputId": "15624824-ad73-4a10-a64e-bd5e63f2f442"
   },
   "outputs": [],
   "source": [
    "user_restaurant_df[['processed_comments', 'comments', 'processed_cuisine', 'cuisine', 'processed_transactions', 'transactions']].sample(5)"
   ]
  },
  {
   "cell_type": "code",
   "execution_count": null,
   "metadata": {
    "id": "xfm_ZXIotFZ_"
   },
   "outputs": [],
   "source": [
    "price_map = {\n",
    "    'low':('everybody', 'no-expense', 'accomodating', 'inexpensive', 'cheap', 'ample', 'rock-bottom'), \n",
    "    'popular-eats': ('low-price', 'low-cost', 'economical', 'economic', 'modest'),\n",
    "    'mid-range': ('moderate', 'fair', 'mid-price', 'reasonable', 'average'),\n",
    "    'pricey-dining': ('expensive', 'fancy', 'lavish', 'fine', 'extravagant')\n",
    "}"
   ]
  },
  {
   "cell_type": "markdown",
   "metadata": {
    "id": "iiX5NLYP3-fJ"
   },
   "source": [
    "# **Modeling**"
   ]
  },
  {
   "cell_type": "markdown",
   "metadata": {
    "id": "7f0eWLlktFaA"
   },
   "source": [
    "## **Content Based Recommendation**"
   ]
  },
  {
   "cell_type": "code",
   "execution_count": null,
   "metadata": {
    "id": "EJQqLFEvtFaA"
   },
   "outputs": [],
   "source": [
    "def contentB_recommend(description):\n",
    "    # Convert user input to lowercase\n",
    "    description = description.lower()\n",
    "\n",
    "    data = user_restaurant_df.copy()\n",
    "\n",
    "    # Extract cities\n",
    "    constituents_input = []\n",
    "    for city in description:\n",
    "      if city in constituents_list:\n",
    "    # for const in constituents_list:\n",
    "    #     if const in description:\n",
    "            constituents_input.append(city)\n",
    "            description = description.replace(city, \"\")\n",
    "\n",
    "    if constituents_input:\n",
    "        data = data[data['location'].isin(constituents_input)]\n",
    "\n",
    "    # Extract price class\n",
    "    for key, value in price_map.items():\n",
    "        if any(v in description for v in value):\n",
    "            data = data[data['pricing'] == key]\n",
    "            break\n",
    "    \n",
    "    # Process user description text input \n",
    "    description = process_sentences(description)\n",
    "    description = description.strip()\n",
    "    print('Processed user feedback:', description)\n",
    "\n",
    "    # Init a TF-IDF vectorizer\n",
    "    tfidfvec = TfidfVectorizer()\n",
    "\n",
    "    # Fit data on processed reviews\n",
    "    vec = tfidfvec.fit(data[\"bogs\"])\n",
    "    features = vec.transform(data[\"bogs\"])\n",
    "\n",
    "    # Transform user input data based on fitted model\n",
    "    description_vector =  vec.transform([description])\n",
    "\n",
    "    # Calculate cosine similarities between users processed input and reviews\n",
    "    cos_sim = linear_kernel(description_vector, features)\n",
    "\n",
    "    # Add similarities to data frame\n",
    "    data['similarity'] = cos_sim[0]\n",
    "\n",
    "    # Sort data frame by similarities\n",
    "    data.sort_values(by='similarity', ascending=False, inplace=True)\n",
    "\n",
    "    return data[['url', 'avg_restaurant_rating', 'location', 'pricing', 'cuisine', 'transactions', 'comments', 'similarity']]"
   ]
  },
  {
   "cell_type": "code",
   "execution_count": null,
   "metadata": {
    "colab": {
     "base_uri": "https://localhost:8080/"
    },
    "id": "m9ysQbHuQXQk",
    "outputId": "621d4b11-23ac-48ff-be4b-ce6d31f138e5"
   },
   "outputs": [],
   "source": [
    "user_restaurant_df.columns"
   ]
  },
  {
   "cell_type": "code",
   "execution_count": null,
   "metadata": {
    "colab": {
     "base_uri": "https://localhost:8080/",
     "height": 659
    },
    "id": "S2VhlpYjtFaB",
    "outputId": "354018fd-4027-4303-80f9-7ea16c95be3e"
   },
   "outputs": [],
   "source": [
    "# specified cuisine\n",
    "contentB_recommend('for chinese food')"
   ]
  },
  {
   "cell_type": "code",
   "execution_count": null,
   "metadata": {
    "colab": {
     "base_uri": "https://localhost:8080/",
     "height": 442
    },
    "id": "pGbXi0pYtFaB",
    "outputId": "6446f2f4-2e1b-405d-9c90-9b95a8f43f84"
   },
   "outputs": [],
   "source": [
    "# with price class and location\n",
    "contentB_recommend('a reasonable breakfast in Brooklyn')"
   ]
  },
  {
   "cell_type": "code",
   "execution_count": null,
   "metadata": {
    "colab": {
     "base_uri": "https://localhost:8080/",
     "height": 442
    },
    "id": "kZ3EveJHtFaB",
    "outputId": "d2b082b6-6d8f-490b-d740-8890cb02dbff"
   },
   "outputs": [],
   "source": [
    "# with transaction and price class and location\n",
    "contentB_recommend('a delivery shop for burgers in New york')"
   ]
  },
  {
   "cell_type": "markdown",
   "metadata": {
    "id": "_CaLCIRItFaC"
   },
   "source": [
    "## **Collaborative Filtering recommendation Model**"
   ]
  },
  {
   "cell_type": "markdown",
   "metadata": {
    "id": "SE6HSsjitFaC"
   },
   "source": [
    "* We will not be implementing Collaborative Filtering from scratch. \n",
    " Instead, we will use the Surprise library that used extremely powerful algorithms like\n",
    "**Singular Value Decomposition (SVD) to minimise RMSE (Root Mean Square Error) and give great recommendations.**"
   ]
  },
  {
   "cell_type": "code",
   "execution_count": null,
   "metadata": {
    "id": "XE5MjYCwtFaC"
   },
   "outputs": [],
   "source": [
    "# surprise reader\n",
    "reader = Reader(rating_scale=(1, 5))"
   ]
  },
  {
   "cell_type": "code",
   "execution_count": null,
   "metadata": {
    "colab": {
     "base_uri": "https://localhost:8080/"
    },
    "id": "Y_B7rB1yTPI2",
    "outputId": "c980b6e3-ae96-4134-98a9-b55909c2ed3b"
   },
   "outputs": [],
   "source": [
    "user_restaurant_df.columns"
   ]
  },
  {
   "cell_type": "code",
   "execution_count": null,
   "metadata": {
    "id": "oPZD15aUtFaC"
   },
   "outputs": [],
   "source": [
    "data = Dataset.load_from_df(user_restaurant_df[['user_ID', 'id', 'user_rating']], reader)\n",
    "\n",
    "trainset, testset = train_test_split(data, test_size=0.25)"
   ]
  },
  {
   "cell_type": "code",
   "execution_count": null,
   "metadata": {
    "id": "EWraqGa6tFaD"
   },
   "outputs": [],
   "source": [
    "model = SVD()\n",
    "# cross_validate(model, trainset, measures=['rmse', 'mae'], cv=5)"
   ]
  },
  {
   "cell_type": "code",
   "execution_count": null,
   "metadata": {
    "colab": {
     "base_uri": "https://localhost:8080/"
    },
    "id": "blrAsRtotFaD",
    "outputId": "0ea05be2-9d39-4d86-a8b0-3d058ccd8b73"
   },
   "outputs": [],
   "source": [
    "# data_train = data.build_full_trainset()\n",
    "model.fit(trainset)"
   ]
  },
  {
   "cell_type": "code",
   "execution_count": null,
   "metadata": {
    "id": "4oonAzrmtFaD"
   },
   "outputs": [],
   "source": [
    "predictions = model.test(testset)"
   ]
  },
  {
   "cell_type": "code",
   "execution_count": null,
   "metadata": {
    "colab": {
     "base_uri": "https://localhost:8080/"
    },
    "id": "JQ0l-q-FtFaD",
    "outputId": "46c89d00-2b02-4809-e46b-cd7c07e42689"
   },
   "outputs": [],
   "source": [
    "# Viewing contents of test set\n",
    "for uid, bid, rating in testset[:5]:\n",
    "    print(f\"User {uid} rated restaurant {bid} with a rating of {rating}\")"
   ]
  },
  {
   "cell_type": "code",
   "execution_count": null,
   "metadata": {
    "colab": {
     "base_uri": "https://localhost:8080/"
    },
    "id": "75Lvks3NtFaE",
    "outputId": "4f63f3f4-6c33-483d-8e6c-004bacf467b3"
   },
   "outputs": [],
   "source": [
    "# Viewing predictions\n",
    "for prediction in predictions[0:5]:\n",
    "    print(prediction)"
   ]
  },
  {
   "cell_type": "code",
   "execution_count": null,
   "metadata": {
    "colab": {
     "base_uri": "https://localhost:8080/"
    },
    "id": "EXopOJe8tFaE",
    "outputId": "1976c8f3-c70e-4a7b-ae2b-b0dd98710e2d"
   },
   "outputs": [],
   "source": [
    "# Print the performance metrics\n",
    "accuracy.rmse(predictions)"
   ]
  },
  {
   "cell_type": "code",
   "execution_count": null,
   "metadata": {
    "id": "np2cqvFRtFaE"
   },
   "outputs": [],
   "source": [
    "true_ratings = [pred.r_ui for pred in predictions]\n",
    "est_ratings = [pred.est for pred in predictions]\n",
    "uids = [pred.uid for pred in predictions]"
   ]
  },
  {
   "cell_type": "markdown",
   "metadata": {
    "id": "J4QclA75tFaE"
   },
   "source": [
    "**Recommending unseen restaurants to the test set**"
   ]
  },
  {
   "cell_type": "code",
   "execution_count": null,
   "metadata": {
    "id": "N2UwVugWtFaF"
   },
   "outputs": [],
   "source": [
    "# Get list of user ids from test set\n",
    "users = list(set(uids))"
   ]
  },
  {
   "cell_type": "code",
   "execution_count": null,
   "metadata": {
    "id": "aVrmvnIStFaF"
   },
   "outputs": [],
   "source": [
    "# restaurants which the users have not yet evaluated\n",
    "restaurants = trainset.build_anti_testset()"
   ]
  },
  {
   "cell_type": "code",
   "execution_count": null,
   "metadata": {
    "colab": {
     "base_uri": "https://localhost:8080/"
    },
    "id": "SzzXltaqtFaF",
    "outputId": "62a87786-9fc2-4ee7-b566-dfea595124a3",
    "scrolled": false
   },
   "outputs": [],
   "source": [
    "# using an example of 15 users\n",
    "for user_id in users[0:15]:\n",
    "    rests_seen = list(filter(lambda x: x[0] == user_id, restaurants))\n",
    "    \n",
    "    print(f'This user {user_id} has rated {len(rests_seen)} restaurants')\n",
    "    \n",
    "    # generate recommendations\n",
    "    recommendations = model.test(rests_seen)\n",
    "    recommendations.sort(key=operator.itemgetter(3), reverse=True)\n",
    "    \n",
    "    print(f\"This user {user_id}'s recommendations:\")\n",
    "    # viewing 3 recommendations if available\n",
    "    for reco in recommendations[0:3]:\n",
    "        name = user_restaurant_df['url'][user_restaurant_df['id'] == (reco[1])]\n",
    "        print(f'Restaurant {str(name)} with estimated rating {reco[3]}')"
   ]
  },
  {
   "cell_type": "markdown",
   "metadata": {
    "id": "OfTkum38tFaG"
   },
   "source": [
    "## **Hybrid Recommendation Model**"
   ]
  },
  {
   "cell_type": "markdown",
   "metadata": {
    "id": "6FAmygFRtFaG"
   },
   "source": [
    "* In this section, will try to build a simple hybrid recommender that brings together techniques we have implemented in the content based and collaborative filter based engines. This is how it will work"
   ]
  },
  {
   "cell_type": "code",
   "execution_count": null,
   "metadata": {
    "colab": {
     "base_uri": "https://localhost:8080/"
    },
    "id": "-wsIjtmOtFaG",
    "outputId": "07e860a3-99bd-40a0-b9ec-63807f19c5b9"
   },
   "outputs": [],
   "source": [
    "id_map = pd.read_csv('https://raw.githubusercontent.com/ThuoM/Restaurant-Recommender-System/base_modeling/restaurant_data.csv')\n",
    "id_map.drop_duplicates(subset=['Restaurant ID'], inplace=True)\n",
    "len(id_map)"
   ]
  },
  {
   "cell_type": "code",
   "execution_count": null,
   "metadata": {
    "id": "ILibbvz8tFaG"
   },
   "outputs": [],
   "source": [
    "def hybrid_recommender(userId, description):\n",
    "    # Convert user input to lowercase\n",
    "    description = description.lower()\n",
    "\n",
    "    data = user_restaurant_df.copy()\n",
    "\n",
    "    # Extract cities\n",
    "    constituents_input = []\n",
    "    for city in description:\n",
    "      if city in constituents_list:\n",
    "    # for const in constituents_list:\n",
    "    #     if const in description:\n",
    "            constituents_input.append(city)\n",
    "            description = description.replace(city, \"\")\n",
    "\n",
    "    if constituents_input:\n",
    "        data = data[data['location'].isin(constituents_input)]\n",
    "\n",
    "    # Extract price class\n",
    "    for key, value in price_map.items():\n",
    "        if any(v in description for v in value):\n",
    "            data = data[data['pricing'] == key]\n",
    "            break\n",
    "    \n",
    "    # Process user description text input \n",
    "    description = process_sentences(description)\n",
    "    description = description.strip()\n",
    "    print('Processed user feedback:', description)\n",
    "\n",
    "    # Init a TF-IDF vectorizer\n",
    "    tfidfvec = TfidfVectorizer()\n",
    "\n",
    "    # Fit data on processed reviews\n",
    "    vec = tfidfvec.fit(data[\"bogs\"])\n",
    "    features = vec.transform(data[\"bogs\"])\n",
    "\n",
    "    # Transform user input data based on fitted model\n",
    "    description_vector =  vec.transform([description])\n",
    "\n",
    "    # Calculate cosine similarities between users processed input and reviews\n",
    "    cos_sim = linear_kernel(description_vector, features)\n",
    "    \n",
    "    # Add similarities to data frame\n",
    "    data['similarity'] = cos_sim[0]\n",
    "    sim_scores = list(cos_sim[0])\n",
    "    print(sim_scores)\n",
    "    \n",
    "    restaurant_indices = [i for i in sim_scores]\n",
    "    print(restaurant_indices)\n",
    "    # rest = data.iloc[restaurant_indices][['id', 'name', 'rating', 'location', 'cuisine', 'comments', 'num_id']]\n",
    "    rest = data.iloc[restaurant_indices][['id', 'url', 'avg_restaurant_rating', 'location', 'pricing' 'cuisine', 'comments', 'num_id']]\n",
    "    # print(rest)\n",
    "    rest['est'] = rest['num_id'].apply(lambda x: model.predict(userId, id_map.loc[x]['Restaurant ID']).est)\n",
    "    rest = rest.sort_values('est', ascending=False)\n",
    "    return display('Predicted:', rest.head(10))  "
   ]
  },
  {
   "cell_type": "code",
   "execution_count": null,
   "metadata": {
    "id": "Tx5-BH3EZv2g"
   },
   "outputs": [],
   "source": [
    "def hybrid_recommender(userId, description):\n",
    "    rest = contentB_recommend(description)\n",
    "    # print(rest)\n",
    "    # display('Prior to personal recommendations: ', rest.head(10))\n",
    "    rest['est'] = rest['num_id'].apply(lambda x: model.predict(userId, x).est)\n",
    "    rest = rest.sort_values('est', ascending=False)\n",
    "    print('\\n\\n\\n\\n')\n",
    "    return rest"
   ]
  },
  {
   "cell_type": "code",
   "execution_count": null,
   "metadata": {
    "colab": {
     "base_uri": "https://localhost:8080/",
     "height": 143
    },
    "id": "9aM_s8hEtFaH",
    "outputId": "b6e1e519-8244-45ee-ca59-d4d50d675ed5"
   },
   "outputs": [],
   "source": [
    "user_restaurant_df[user_restaurant_df['user_ID'] == 1]"
   ]
  },
  {
   "cell_type": "code",
   "execution_count": null,
   "metadata": {
    "colab": {
     "base_uri": "https://localhost:8080/",
     "height": 261
    },
    "id": "m0Ew727ftFaH",
    "outputId": "62129441-6b98-46a2-dea1-f57edd27847e",
    "scrolled": false
   },
   "outputs": [],
   "source": [
    "user_restaurant_df[user_restaurant_df['id'] == 'hdiuRS9sVZSMReZm4oV5SA']"
   ]
  },
  {
   "cell_type": "code",
   "execution_count": null,
   "metadata": {
    "colab": {
     "base_uri": "https://localhost:8080/",
     "height": 541
    },
    "id": "_i5HPHNjtFaH",
    "outputId": "e6796d05-f404-4ea4-852f-79be03fe5688",
    "scrolled": true
   },
   "outputs": [],
   "source": [
    "hybrid_recommender(1, 'good korean with delivery')"
   ]
  },
  {
   "cell_type": "code",
   "execution_count": null,
   "metadata": {
    "id": "LDI0NK0_tFaH"
   },
   "outputs": [],
   "source": []
  },
  {
   "cell_type": "code",
   "execution_count": null,
   "metadata": {
    "id": "w26apZEStFaH"
   },
   "outputs": [],
   "source": []
  },
  {
   "cell_type": "code",
   "execution_count": null,
   "metadata": {
    "id": "Kp6EBaE7tFaH"
   },
   "outputs": [],
   "source": []
  },
  {
   "cell_type": "code",
   "execution_count": null,
   "metadata": {
    "id": "lEGOVou6tFaI"
   },
   "outputs": [],
   "source": []
  },
  {
   "cell_type": "code",
   "execution_count": null,
   "metadata": {
    "id": "OfrgHbo14D8c"
   },
   "outputs": [],
   "source": []
  },
  {
   "cell_type": "markdown",
   "metadata": {
    "id": "662KYSrx4EpF"
   },
   "source": [
    "# Evaluation"
   ]
  },
  {
   "cell_type": "code",
   "execution_count": null,
   "metadata": {
    "id": "mPrSfQzn4LNS"
   },
   "outputs": [],
   "source": []
  },
  {
   "cell_type": "markdown",
   "metadata": {
    "id": "PmZeGR6a4OIA"
   },
   "source": [
    "# Deployment"
   ]
  },
  {
   "cell_type": "code",
   "execution_count": null,
   "metadata": {
    "id": "0G19pVno4S6u"
   },
   "outputs": [],
   "source": []
  }
 ],
 "metadata": {
  "colab": {
   "provenance": []
  },
  "kernelspec": {
   "display_name": "Python 3 (ipykernel)",
   "language": "python",
   "name": "python3"
  },
  "language_info": {
   "codemirror_mode": {
    "name": "ipython",
    "version": 3
   },
   "file_extension": ".py",
   "mimetype": "text/x-python",
   "name": "python",
   "nbconvert_exporter": "python",
   "pygments_lexer": "ipython3",
   "version": "3.11.3"
  }
 },
 "nbformat": 4,
 "nbformat_minor": 1
}
